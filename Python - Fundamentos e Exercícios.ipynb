{
 "cells": [
  {
   "cell_type": "markdown",
   "metadata": {
    "id": "tttWPzHe8sGA"
   },
   "source": [
    "## Fundamentos da Linguagem Python\n",
    "\n",
    "- Operadores Aritméticos\n",
    "- Expressões Booleanas\n",
    "- Operadores Relacionais\n",
    "- Operadores Lógicos\n",
    "- Listas\n",
    "- Tuplas\n",
    "- Dicionários\n",
    "- Condicionais\n",
    "- Laços de repetição\n",
    "- Funções\n",
    "- Exercícios Python 1 - 115"
   ]
  },
  {
   "cell_type": "markdown",
   "metadata": {
    "id": "jIZXysdu_INX"
   },
   "source": [
    "## Operadores Matemáticos\n",
    "* Adição - `+`\n",
    "* Subtração - `-`\n",
    "* Multiplicação - `*`\n",
    "* Divisão - `/`\n",
    "* Exponenciação - `**`\n",
    "* Parte inteira - `//`\n",
    "* Módulo - `%`"
   ]
  },
  {
   "cell_type": "code",
   "execution_count": 20,
   "metadata": {
    "colab": {
     "base_uri": "https://localhost:8080/"
    },
    "id": "RVTLwUnsgiL1",
    "outputId": "c4726efd-b94d-4d9b-e79b-833ac3215ef3"
   },
   "outputs": [
    {
     "data": {
      "text/plain": [
       "20"
      ]
     },
     "execution_count": 20,
     "metadata": {},
     "output_type": "execute_result"
    }
   ],
   "source": [
    "# Soma +\n",
    "10 + 10"
   ]
  },
  {
   "cell_type": "code",
   "execution_count": 21,
   "metadata": {
    "colab": {
     "base_uri": "https://localhost:8080/"
    },
    "id": "NphqmTNKgmcc",
    "outputId": "a6eb438c-6531-4b12-f401-21c5e3fe5a81"
   },
   "outputs": [
    {
     "data": {
      "text/plain": [
       "2"
      ]
     },
     "execution_count": 21,
     "metadata": {},
     "output_type": "execute_result"
    }
   ],
   "source": [
    "# Subtração -\n",
    "10 - 8"
   ]
  },
  {
   "cell_type": "code",
   "execution_count": 22,
   "metadata": {
    "colab": {
     "base_uri": "https://localhost:8080/"
    },
    "id": "FZzlkBXUgmpF",
    "outputId": "17f5c3b0-da83-4340-c807-0cf2a282a31f"
   },
   "outputs": [
    {
     "data": {
      "text/plain": [
       "20"
      ]
     },
     "execution_count": 22,
     "metadata": {},
     "output_type": "execute_result"
    }
   ],
   "source": [
    "# Multiplicação *\n",
    "10 * 2"
   ]
  },
  {
   "cell_type": "code",
   "execution_count": 23,
   "metadata": {
    "colab": {
     "base_uri": "https://localhost:8080/"
    },
    "id": "zOLJs98ngnCD",
    "outputId": "734f44f2-5849-442c-e16e-42c7e936b9d7"
   },
   "outputs": [
    {
     "name": "stdout",
     "output_type": "stream",
     "text": [
      "2.0\n"
     ]
    },
    {
     "data": {
      "text/plain": [
       "float"
      ]
     },
     "execution_count": 23,
     "metadata": {},
     "output_type": "execute_result"
    }
   ],
   "source": [
    "# Divisão /\n",
    "x = 10 / 5\n",
    "print(x)\n",
    "# Para descobrir o formato do resultado (type)\n",
    "type (x)\n",
    "#Está dando um formato de Float (porque é um numero real)"
   ]
  },
  {
   "cell_type": "code",
   "execution_count": 24,
   "metadata": {
    "colab": {
     "base_uri": "https://localhost:8080/"
    },
    "id": "VK4noz69gnUj",
    "outputId": "7c4c0764-b96b-4562-dbab-40e125bb1f86"
   },
   "outputs": [
    {
     "data": {
      "text/plain": [
       "int"
      ]
     },
     "execution_count": 24,
     "metadata": {},
     "output_type": "execute_result"
    }
   ],
   "source": [
    "# Número inteiro da divisão //\n",
    "type(10 // 5)"
   ]
  },
  {
   "cell_type": "code",
   "execution_count": 25,
   "metadata": {
    "colab": {
     "base_uri": "https://localhost:8080/"
    },
    "id": "ThbwXTPPguQF",
    "outputId": "4fa3ad37-beea-4d69-f686-0ccd00592649"
   },
   "outputs": [
    {
     "data": {
      "text/plain": [
       "8"
      ]
     },
     "execution_count": 25,
     "metadata": {},
     "output_type": "execute_result"
    }
   ],
   "source": [
    "# Potência ** \n",
    "2 ** 3"
   ]
  },
  {
   "cell_type": "code",
   "execution_count": 26,
   "metadata": {
    "colab": {
     "base_uri": "https://localhost:8080/"
    },
    "id": "Pe3TQosHguZL",
    "outputId": "cd2eb1b4-d442-48b0-9417-ee63990307c1"
   },
   "outputs": [
    {
     "data": {
      "text/plain": [
       "0"
      ]
     },
     "execution_count": 26,
     "metadata": {},
     "output_type": "execute_result"
    }
   ],
   "source": [
    "# Resto da divisão %\n",
    "10 % 5"
   ]
  },
  {
   "cell_type": "code",
   "execution_count": 27,
   "metadata": {
    "colab": {
     "base_uri": "https://localhost:8080/"
    },
    "id": "Jhtb8sv8gyT1",
    "outputId": "f7343e52-20ed-4639-d473-76a6d6b504ec"
   },
   "outputs": [
    {
     "data": {
      "text/plain": [
       "3"
      ]
     },
     "execution_count": 27,
     "metadata": {},
     "output_type": "execute_result"
    }
   ],
   "source": [
    "# As duas barras é para ter um resultado int e não Float\n",
    "10 // 3"
   ]
  },
  {
   "cell_type": "code",
   "execution_count": 28,
   "metadata": {
    "colab": {
     "base_uri": "https://localhost:8080/"
    },
    "id": "wBT9oNeugymk",
    "outputId": "77d3c8be-2ba2-47e0-aace-de5c1484534b"
   },
   "outputs": [
    {
     "data": {
      "text/plain": [
       "1"
      ]
     },
     "execution_count": 28,
     "metadata": {},
     "output_type": "execute_result"
    }
   ],
   "source": [
    "# #Podemos notar que sobra 1, para verificarmos esse valor podemos usar % \n",
    "10 % 3"
   ]
  },
  {
   "cell_type": "markdown",
   "metadata": {
    "id": "OKTlzE0TvCyK"
   },
   "source": [
    "## Expressões booleanas\n",
    "São expressões que retornam True (verdadeiro) ou False (falso)"
   ]
  },
  {
   "cell_type": "code",
   "execution_count": 29,
   "metadata": {
    "colab": {
     "base_uri": "https://localhost:8080/"
    },
    "id": "QFVsNXpivTY5",
    "outputId": "c62bafc8-1476-4f13-fde6-020766e31b90"
   },
   "outputs": [
    {
     "data": {
      "text/plain": [
       "True"
      ]
     },
     "execution_count": 29,
     "metadata": {},
     "output_type": "execute_result"
    }
   ],
   "source": [
    "# Verdadeiro\n",
    "10 == 10"
   ]
  },
  {
   "cell_type": "code",
   "execution_count": 30,
   "metadata": {
    "colab": {
     "base_uri": "https://localhost:8080/"
    },
    "id": "GI8L6ENlvXoJ",
    "outputId": "24b3e72a-7185-46d6-f2cf-df7749fb68fa"
   },
   "outputs": [
    {
     "data": {
      "text/plain": [
       "False"
      ]
     },
     "execution_count": 30,
     "metadata": {},
     "output_type": "execute_result"
    }
   ],
   "source": [
    "# Falso\n",
    "10 == 9"
   ]
  },
  {
   "cell_type": "markdown",
   "metadata": {
    "id": "BuahrnbB_LdG"
   },
   "source": [
    "## Operadores Relacionais\n",
    "* Maior que - `>`\n",
    "* Menor que - `<`\n",
    "* Igual a - `==`\n",
    "* Maior ou igual a - `>=`\n",
    "* Menor ou igual a - `<=`\n",
    "* Diferente = `!=`"
   ]
  },
  {
   "cell_type": "code",
   "execution_count": 36,
   "metadata": {
    "colab": {
     "base_uri": "https://localhost:8080/"
    },
    "id": "OSGU-6RN9ALw",
    "outputId": "c60682b5-beed-4b35-9461-d63fd13330d6"
   },
   "outputs": [
    {
     "data": {
      "text/plain": [
       "True"
      ]
     },
     "execution_count": 36,
     "metadata": {},
     "output_type": "execute_result"
    }
   ],
   "source": [
    "# Maior que >\n",
    "10 > 5"
   ]
  },
  {
   "cell_type": "code",
   "execution_count": 37,
   "metadata": {
    "colab": {
     "base_uri": "https://localhost:8080/"
    },
    "id": "N32RTnxv_bsP",
    "outputId": "daee9260-d4d5-4fdf-de45-bbae154adc4d"
   },
   "outputs": [
    {
     "data": {
      "text/plain": [
       "False"
      ]
     },
     "execution_count": 37,
     "metadata": {},
     "output_type": "execute_result"
    }
   ],
   "source": [
    "# Menor que <\n",
    "10 < 5"
   ]
  },
  {
   "cell_type": "code",
   "execution_count": 38,
   "metadata": {
    "colab": {
     "base_uri": "https://localhost:8080/"
    },
    "id": "UN2Faocx_b-W",
    "outputId": "7420f5cf-aa8a-4f2c-e30a-0ccb55ab78d3"
   },
   "outputs": [
    {
     "data": {
      "text/plain": [
       "True"
      ]
     },
     "execution_count": 38,
     "metadata": {},
     "output_type": "execute_result"
    }
   ],
   "source": [
    "# Maior ou igual >=\n",
    "10 >= 10"
   ]
  },
  {
   "cell_type": "code",
   "execution_count": 39,
   "metadata": {
    "colab": {
     "base_uri": "https://localhost:8080/"
    },
    "id": "jx_w5tAxt55z",
    "outputId": "d71b0ab1-33c7-4526-da82-cd429a2b57d8"
   },
   "outputs": [
    {
     "data": {
      "text/plain": [
       "True"
      ]
     },
     "execution_count": 39,
     "metadata": {},
     "output_type": "execute_result"
    }
   ],
   "source": [
    "# Menor ou igual <=\n",
    "10 <= 10"
   ]
  },
  {
   "cell_type": "code",
   "execution_count": 40,
   "metadata": {
    "colab": {
     "base_uri": "https://localhost:8080/"
    },
    "id": "KERdwfQzhUU7",
    "outputId": "6df06f34-f5d1-40d7-eafd-295ac65d3600"
   },
   "outputs": [
    {
     "data": {
      "text/plain": [
       "False"
      ]
     },
     "execution_count": 40,
     "metadata": {},
     "output_type": "execute_result"
    }
   ],
   "source": [
    "# Diferente !=\n",
    "10 != 10"
   ]
  },
  {
   "cell_type": "markdown",
   "metadata": {
    "id": "5DOdhbUWBxXI"
   },
   "source": [
    "## Operadores Lógicos\n",
    "Os operadores lógicos são: `and, or e not`. A semântica (significado) destes operadores é semelhante ao seu significado em inglês. Por exemplo, `x > 0 and x < 10` só é verdade se x for maior que 0 e menor que 10."
   ]
  },
  {
   "cell_type": "code",
   "execution_count": 61,
   "metadata": {
    "colab": {
     "base_uri": "https://localhost:8080/"
    },
    "id": "7zQ3ldbNt-6J",
    "outputId": "49b1b598-3509-4e82-ed32-5d08c3ffd76c"
   },
   "outputs": [
    {
     "data": {
      "text/plain": [
       "False"
      ]
     },
     "execution_count": 61,
     "metadata": {},
     "output_type": "execute_result"
    }
   ],
   "source": [
    "x = 20\n",
    "x > 0 and x < 10"
   ]
  },
  {
   "cell_type": "code",
   "execution_count": 62,
   "metadata": {
    "colab": {
     "base_uri": "https://localhost:8080/"
    },
    "id": "rXK4catrt_Wi",
    "outputId": "8d25a358-d976-4136-e8af-8d8a67fe6b4b"
   },
   "outputs": [
    {
     "data": {
      "text/plain": [
       "True"
      ]
     },
     "execution_count": 62,
     "metadata": {},
     "output_type": "execute_result"
    }
   ],
   "source": [
    "x > 0 and x <= 20"
   ]
  },
  {
   "cell_type": "code",
   "execution_count": 63,
   "metadata": {
    "colab": {
     "base_uri": "https://localhost:8080/"
    },
    "id": "9AMlIgoNw2UJ",
    "outputId": "32d796ab-0009-48ea-cdc2-4a3fcd6e6cf3"
   },
   "outputs": [
    {
     "data": {
      "text/plain": [
       "False"
      ]
     },
     "execution_count": 63,
     "metadata": {},
     "output_type": "execute_result"
    }
   ],
   "source": [
    "# Quando utilizamos or significa que ele precisar ser verdadeiro em pelo menos um desses parametros > que 0 ou < 10\n",
    "y > 0 or x < 10"
   ]
  },
  {
   "cell_type": "code",
   "execution_count": 67,
   "metadata": {
    "colab": {
     "base_uri": "https://localhost:8080/"
    },
    "id": "rLilhZG9w15w",
    "outputId": "9aedb402-d4f2-4bb1-e773-7e4e97732e55"
   },
   "outputs": [
    {
     "data": {
      "text/plain": [
       "True"
      ]
     },
     "execution_count": 67,
     "metadata": {},
     "output_type": "execute_result"
    }
   ],
   "source": [
    "# O not inverte o resultado, no caso seria falso esse resultado a baixo, mas como utilizamos not ele fica verdadeiro\n",
    "not(x > 0 and x < 10)"
   ]
  },
  {
   "cell_type": "markdown",
   "metadata": {
    "id": "zabdWgpwwOOz"
   },
   "source": [
    "## Listas \n",
    "\n",
    "A lista em python é uma sequência de objetos separados por vírgula, para determinar uma lista utilizamos colchetes `[]`."
   ]
  },
  {
   "cell_type": "code",
   "execution_count": 120,
   "metadata": {
    "id": "xDg2m5QFJKKj"
   },
   "outputs": [],
   "source": [
    "# Para criarmos uma lista devemos usar os colchetes []\n",
    "lista = [1, 2, 3, 4, 5, \"imagem3\"]\n",
    "\n",
    "# Devemos começar a contar nossa lista a partir do 0, sendo assim seria:\n",
    "#[1, 2, 3, 4, 5, \"imagem3\"]\n",
    "# 0  1  2  3  4      5"
   ]
  },
  {
   "cell_type": "code",
   "execution_count": 121,
   "metadata": {
    "colab": {
     "base_uri": "https://localhost:8080/"
    },
    "id": "IqCeR6x4JLDI",
    "outputId": "68113e82-eb80-4529-f5bc-874da95a1c5b"
   },
   "outputs": [
    {
     "data": {
      "text/plain": [
       "[1, 2, 3, 4, 5, 'imagem3']"
      ]
     },
     "execution_count": 121,
     "metadata": {},
     "output_type": "execute_result"
    }
   ],
   "source": [
    "lista"
   ]
  },
  {
   "cell_type": "code",
   "execution_count": 122,
   "metadata": {
    "colab": {
     "base_uri": "https://localhost:8080/"
    },
    "id": "qZHN3P3yJLGK",
    "outputId": "ece76e99-1fe1-4a9e-f732-fb78c561c758"
   },
   "outputs": [
    {
     "data": {
      "text/plain": [
       "list"
      ]
     },
     "execution_count": 122,
     "metadata": {},
     "output_type": "execute_result"
    }
   ],
   "source": [
    "type(lista)"
   ]
  },
  {
   "cell_type": "code",
   "execution_count": 123,
   "metadata": {
    "id": "gYSch2JfJLIg"
   },
   "outputs": [],
   "source": [
    "# Adicionar um novo valor a lista\n",
    "lista.append(10)\n",
    "\n",
    "#Apagar um valor da lista\n",
    "lista.remove(10)"
   ]
  },
  {
   "cell_type": "code",
   "execution_count": 124,
   "metadata": {
    "colab": {
     "base_uri": "https://localhost:8080/"
    },
    "id": "-IdVZWJHJyeJ",
    "outputId": "2044bbb6-c75c-46bc-f78a-155bd969e7e1"
   },
   "outputs": [
    {
     "data": {
      "text/plain": [
       "[1, 2, 3, 4, 5, 'imagem3']"
      ]
     },
     "execution_count": 124,
     "metadata": {},
     "output_type": "execute_result"
    }
   ],
   "source": [
    "lista"
   ]
  },
  {
   "cell_type": "code",
   "execution_count": 125,
   "metadata": {
    "id": "yUfDdUnaJyiy"
   },
   "outputs": [],
   "source": [
    "# Ele está selecionando o primmeiro da lista e declarando como 10\n",
    "lista[0] = 10"
   ]
  },
  {
   "cell_type": "code",
   "execution_count": 126,
   "metadata": {
    "colab": {
     "base_uri": "https://localhost:8080/"
    },
    "id": "MDnbfjmSJ4WG",
    "outputId": "15198058-31f8-4d4f-da71-52cbe277a5bf"
   },
   "outputs": [
    {
     "data": {
      "text/plain": [
       "[10, 2, 3, 4, 5, 'imagem3']"
      ]
     },
     "execution_count": 126,
     "metadata": {},
     "output_type": "execute_result"
    }
   ],
   "source": [
    "lista"
   ]
  },
  {
   "cell_type": "markdown",
   "metadata": {
    "id": "T0quKbrH0dlY"
   },
   "source": [
    "## Tuplas\n",
    "As tuplas são parecidas com as listas porém são imutáveis, ou seja, não consigo fazer modificações de dados."
   ]
  },
  {
   "cell_type": "code",
   "execution_count": 135,
   "metadata": {
    "colab": {
     "base_uri": "https://localhost:8080/"
    },
    "id": "ucd48UXoJNad",
    "outputId": "4568bb11-faed-4785-a4c4-8df39b47e57d"
   },
   "outputs": [
    {
     "data": {
      "text/plain": [
       "(1, 2, 3, 4, 5)"
      ]
     },
     "execution_count": 135,
     "metadata": {},
     "output_type": "execute_result"
    }
   ],
   "source": [
    "# É identico a lista, porém não consigo fazer nenhuma modificação depois de criado\n",
    "tupla = (1, 2, 3, 4, 5)\n",
    "tupla"
   ]
  },
  {
   "cell_type": "code",
   "execution_count": 136,
   "metadata": {
    "colab": {
     "base_uri": "https://localhost:8080/"
    },
    "id": "rk805WSRJNX8",
    "outputId": "d3a2a61b-08fb-41f6-d0a6-44a10906fa5a"
   },
   "outputs": [
    {
     "data": {
      "text/plain": [
       "(1, 2, 3, 4, 5)"
      ]
     },
     "execution_count": 136,
     "metadata": {},
     "output_type": "execute_result"
    }
   ],
   "source": [
    "tupla2 = 1, 2, 3, 4, 5\n",
    "tupla2"
   ]
  },
  {
   "cell_type": "code",
   "execution_count": 137,
   "metadata": {
    "colab": {
     "base_uri": "https://localhost:8080/"
    },
    "id": "h2TzBJZRJNRs",
    "outputId": "cc8672a4-1f65-4677-bbc4-ca3888facb90"
   },
   "outputs": [
    {
     "name": "stdout",
     "output_type": "stream",
     "text": [
      "<class 'tuple'>\n",
      "<class 'tuple'>\n"
     ]
    }
   ],
   "source": [
    "print(type(tupla))\n",
    "print(type(tupla2))"
   ]
  },
  {
   "cell_type": "code",
   "execution_count": 138,
   "metadata": {
    "colab": {
     "base_uri": "https://localhost:8080/",
     "height": 165
    },
    "id": "pefLCmhCJNPl",
    "outputId": "02836096-a260-4a53-bff5-4f47e5571846"
   },
   "outputs": [
    {
     "ename": "AttributeError",
     "evalue": "'tuple' object has no attribute 'append'",
     "output_type": "error",
     "traceback": [
      "\u001b[1;31m---------------------------------------------------------------------------\u001b[0m",
      "\u001b[1;31mAttributeError\u001b[0m                            Traceback (most recent call last)",
      "\u001b[1;32m~\\AppData\\Local\\Temp\\ipykernel_14328\\3618308381.py\u001b[0m in \u001b[0;36m<module>\u001b[1;34m\u001b[0m\n\u001b[0;32m      1\u001b[0m \u001b[1;31m# Tuplas são imutáveis, não é possível modificar uma tupla após sua criação\u001b[0m\u001b[1;33m\u001b[0m\u001b[1;33m\u001b[0m\u001b[0m\n\u001b[1;32m----> 2\u001b[1;33m \u001b[0mtupla\u001b[0m\u001b[1;33m.\u001b[0m\u001b[0mappend\u001b[0m\u001b[1;33m(\u001b[0m\u001b[1;36m10\u001b[0m\u001b[1;33m)\u001b[0m\u001b[1;33m\u001b[0m\u001b[1;33m\u001b[0m\u001b[0m\n\u001b[0m",
      "\u001b[1;31mAttributeError\u001b[0m: 'tuple' object has no attribute 'append'"
     ]
    }
   ],
   "source": [
    "# Tuplas são imutáveis, não é possível modificar uma tupla após sua criação\n",
    "tupla.append(10)"
   ]
  },
  {
   "cell_type": "markdown",
   "metadata": {
    "id": "9TTaBaUGyPak"
   },
   "source": [
    "## Dicionários\n",
    "Os dicionários são estruturas de chaves e valores.\n",
    "\n",
    "Por exemplo: \n",
    "\n",
    "`dicionario = {'chave1':valor1, 'chave2':valor2, 'chave3':valor3}`"
   ]
  },
  {
   "cell_type": "code",
   "execution_count": 152,
   "metadata": {
    "id": "dp3S5mXe2xRN"
   },
   "outputs": [],
   "source": [
    "# Os elementos são acessados por chaves que criamos diferente de uma lista que inicia acessando com 0...\n",
    "dicionario = {'banda1':1, \"banda2\":2, \"banda3\":3}"
   ]
  },
  {
   "cell_type": "code",
   "execution_count": 153,
   "metadata": {
    "colab": {
     "base_uri": "https://localhost:8080/"
    },
    "id": "RZJi85ycJPku",
    "outputId": "9a79d795-7d70-4c1a-a37a-533d2fd3d712"
   },
   "outputs": [
    {
     "data": {
      "text/plain": [
       "{'banda1': 1, 'banda2': 2, 'banda3': 3}"
      ]
     },
     "execution_count": 153,
     "metadata": {},
     "output_type": "execute_result"
    }
   ],
   "source": [
    "dicionario"
   ]
  },
  {
   "cell_type": "code",
   "execution_count": 154,
   "metadata": {
    "colab": {
     "base_uri": "https://localhost:8080/"
    },
    "id": "AHPL2EPLJPoH",
    "outputId": "511730d0-8540-4843-d27a-bdacb332e16c"
   },
   "outputs": [
    {
     "data": {
      "text/plain": [
       "dict"
      ]
     },
     "execution_count": 154,
     "metadata": {},
     "output_type": "execute_result"
    }
   ],
   "source": [
    "type(dicionario)"
   ]
  },
  {
   "cell_type": "code",
   "execution_count": 155,
   "metadata": {
    "colab": {
     "base_uri": "https://localhost:8080/"
    },
    "id": "kqsQNoWOJPq1",
    "outputId": "bcd55be2-29be-4b71-b524-e971b9439a48"
   },
   "outputs": [
    {
     "data": {
      "text/plain": [
       "dict_keys(['banda1', 'banda2', 'banda3'])"
      ]
     },
     "execution_count": 155,
     "metadata": {},
     "output_type": "execute_result"
    }
   ],
   "source": [
    "# Acessar chaves\n",
    "dicionario.keys()"
   ]
  },
  {
   "cell_type": "code",
   "execution_count": 156,
   "metadata": {
    "colab": {
     "base_uri": "https://localhost:8080/"
    },
    "id": "KoUN1NhrJPtZ",
    "outputId": "4ecbaf36-75d3-46fd-d1bd-670256b73e2d"
   },
   "outputs": [
    {
     "data": {
      "text/plain": [
       "dict_values([1, 2, 3])"
      ]
     },
     "execution_count": 156,
     "metadata": {},
     "output_type": "execute_result"
    }
   ],
   "source": [
    "# Acessar valores\n",
    "dicionario.values()"
   ]
  },
  {
   "cell_type": "markdown",
   "metadata": {
    "id": "vwFAqk5FyEZX"
   },
   "source": [
    "## Condicionais\n",
    "Para escrever programas úteis, quase sempre precisamos da capacidade de verificar condições e mudar o comportamento do programa de acordo com elas. \n",
    "\n",
    "Algumas das condicionais na linguagem python são: `if`, `else`, `elif`."
   ]
  },
  {
   "cell_type": "code",
   "execution_count": 162,
   "metadata": {
    "id": "MF5HaMtYTZPg"
   },
   "outputs": [],
   "source": [
    "x = -10"
   ]
  },
  {
   "cell_type": "code",
   "execution_count": 169,
   "metadata": {
    "id": "t9Vh9Nbq0LJZ"
   },
   "outputs": [],
   "source": [
    "if x > 10:\n",
    " print('x é maior que 10')\n",
    "# Aqui não vai aparecer nada porque não está acertando o primeiro parâmetro e não colocamos outra condição"
   ]
  },
  {
   "cell_type": "code",
   "execution_count": 166,
   "metadata": {
    "id": "7SHeJ_hv0LmB"
   },
   "outputs": [
    {
     "name": "stdout",
     "output_type": "stream",
     "text": [
      "x não é positivo\n"
     ]
    }
   ],
   "source": [
    "# Se\n",
    "if x > 0:\n",
    "  print('x é positivo')\n",
    "# Senão\n",
    "else:\n",
    "  print('x não é positivo')"
   ]
  },
  {
   "cell_type": "code",
   "execution_count": 170,
   "metadata": {
    "id": "CioLZjFB0LpI"
   },
   "outputs": [
    {
     "name": "stdout",
     "output_type": "stream",
     "text": [
      "x é igual 0\n"
     ]
    }
   ],
   "source": [
    "x = 0\n",
    "\n",
    "# Se\n",
    "if x > 0:\n",
    "  print('x é positivo')\n",
    "# Uma melhor forma de melhorar a semantica, para não ficar repetindo somente if\n",
    "# Se\n",
    "elif x == 0:\n",
    "  print('x é igual 0')\n",
    "# Senão\n",
    "else:\n",
    "  print('x é negativo')"
   ]
  },
  {
   "cell_type": "markdown",
   "metadata": {
    "id": "I5AD3MDb5CfE"
   },
   "source": [
    "## Laços de Repetição\n",
    "Os laços de repetição são estruturas para controlar um programa e usado para repetir a execução de um código enquanto uma condição for verdadeira.\n",
    "\n",
    "As repetições de cada bloco de código são conhecidas como iterações.\n",
    "\n",
    "Em python usamos `for` e `while`"
   ]
  },
  {
   "cell_type": "code",
   "execution_count": 190,
   "metadata": {
    "id": "NYj2Z_VRULIq"
   },
   "outputs": [
    {
     "name": "stdout",
     "output_type": "stream",
     "text": [
      "['imagem1', 'imagem2', 'imagem3', 'imagem4']\n"
     ]
    }
   ],
   "source": [
    "lista = ['imagem1', 'imagem2', 'imagem3', 'imagem4']\n",
    "print (lista)"
   ]
  },
  {
   "cell_type": "code",
   "execution_count": 200,
   "metadata": {},
   "outputs": [
    {
     "name": "stdout",
     "output_type": "stream",
     "text": [
      "imagem1\n",
      "imagem2\n",
      "imagem3\n",
      "imagem4\n"
     ]
    }
   ],
   "source": [
    "# Ele vai imprimir cada palavra da lista e o x é a variavel que atribui a esse loop\n",
    "for x in lista:\n",
    " print(x)\n",
    " "
   ]
  },
  {
   "cell_type": "code",
   "execution_count": 202,
   "metadata": {
    "id": "9K2_hxIq-7kL"
   },
   "outputs": [
    {
     "name": "stdout",
     "output_type": "stream",
     "text": [
      "(1, 'imagem1')\n",
      "(2, 'imagem2')\n",
      "(3, 'imagem3')\n",
      "(4, 'imagem4')\n"
     ]
    }
   ],
   "source": [
    "# enumerate é para identificar a contagem de cada variavel da lista\n",
    "# O start=1 para ele começar a identificar as variaveis a partir do 1 e não do zero como de costume\n",
    "for palavra in enumerate(lista, start=1):\n",
    "  print(palavra)"
   ]
  },
  {
   "cell_type": "code",
   "execution_count": 204,
   "metadata": {
    "id": "-2oKdBTZ_l_L"
   },
   "outputs": [
    {
     "data": {
      "text/plain": [
       "4"
      ]
     },
     "execution_count": 204,
     "metadata": {},
     "output_type": "execute_result"
    }
   ],
   "source": [
    "# Para identificar quantas variaveis está na lista\n",
    "len(lista)"
   ]
  },
  {
   "cell_type": "code",
   "execution_count": 208,
   "metadata": {
    "id": "_ohZ79BP-74V"
   },
   "outputs": [
    {
     "name": "stdout",
     "output_type": "stream",
     "text": [
      "0\n",
      "1\n",
      "2\n",
      "3\n",
      "4\n",
      "5\n",
      "6\n",
      "7\n",
      "8\n",
      "9\n",
      "10\n"
     ]
    }
   ],
   "source": [
    "# Imprimir até a decima primeira variavel\n",
    "for x in range(11):\n",
    "  print(x) "
   ]
  },
  {
   "cell_type": "code",
   "execution_count": 213,
   "metadata": {
    "id": "8VbsdXUs-77E"
   },
   "outputs": [
    {
     "name": "stdout",
     "output_type": "stream",
     "text": [
      "5\n",
      "6\n",
      "7\n",
      "8\n",
      "9\n"
     ]
    }
   ],
   "source": [
    "# Enquanto uma condição for verdadeira ele imprime o valor, quando não for ele para\n",
    "x = 5\n",
    "# Enquanto 5 < 10\n",
    "# Imprima x+1, quando ele chega em um valor que o proximo vai ser 10 ele para\n",
    "while x < 10:\n",
    "  print(x)\n",
    "  x = x + 1"
   ]
  },
  {
   "cell_type": "markdown",
   "metadata": {
    "id": "LjEHLlkA0zcw"
   },
   "source": [
    "## Função\n",
    "É uma sequência de comandos que executa alguma tarefa e que tem um nome. A sua principal finalidade é nos ajudar a organizar programas em pedaços que correspondam a como imaginamos uma solução do problema"
   ]
  },
  {
   "cell_type": "code",
   "execution_count": 246,
   "metadata": {
    "id": "eTSU5wFU_RCo"
   },
   "outputs": [],
   "source": [
    "# Em funções utiliza return em vez de print\n",
    "# Essa função que foi criada para mesmo que o numero seja negativo ele vire um numero positivo\n",
    "def valores_absolutos(x):\n",
    "\n",
    "  if x >= 0:\n",
    "    return x\n",
    "  else:\n",
    "    return -x"
   ]
  },
  {
   "cell_type": "code",
   "execution_count": 250,
   "metadata": {
    "id": "phbwdgr7AR7T"
   },
   "outputs": [
    {
     "name": "stdout",
     "output_type": "stream",
     "text": [
      "10\n",
      "90\n",
      "4\n",
      "10\n"
     ]
    }
   ],
   "source": [
    "print(valores_absolutos(-10))\n",
    "print(valores_absolutos(-90))\n",
    "print(valores_absolutos(-4))\n",
    "print(valores_absolutos(10))"
   ]
  },
  {
   "cell_type": "code",
   "execution_count": 255,
   "metadata": {},
   "outputs": [
    {
     "name": "stdout",
     "output_type": "stream",
     "text": [
      "2\n",
      "50\n",
      "30\n",
      "40\n"
     ]
    }
   ],
   "source": [
    "# Criei uma lista com varios valores negativos\n",
    "lista = [-2, -50, -30, -40]\n",
    "\n",
    "# Depois criei o Loop para executar um separado do outro\n",
    "for x in lista:\n",
    " print(valores_absolutos(x)) # Usei a função que transforma valores negativos em valores reais na minha lista"
   ]
  },
  {
   "cell_type": "markdown",
   "metadata": {},
   "source": [
    "---------------------------------------------------------------------------------------------------------------------------------------------------------------------------------------------------------------------------------------------------------------------------------------------------------------------------------------------------------------------------------"
   ]
  },
  {
   "cell_type": "markdown",
   "metadata": {},
   "source": [
    "---------------------------------------------------------------------------------------------------------------------------------------------------------------------------------------------------------------------------------------------------------------------------------------------------------------------------------------------------------------------------------------------------------------------------------------------------------------------------------------------------------------------------------------------------------------------------------------------------------------------------------------------------------------------------------------------------------------------------------------------------------------------------------------------------------------------------------------------------------------------------------------------------------------------------------------------------------------------------------------------------------------------------------------------------------------------------------------------------------------------------------------------------"
   ]
  },
  {
   "cell_type": "markdown",
   "metadata": {},
   "source": [
    "---------------------------------------------------------------------------------------------------------------------------------------------------------------------------------------------------------------------------------------------------------------------------------------------------------------------------------------------------------------------------------------------------------------------------------------------------------------------------------------------------------------------------------------------------------------------------------------------------------------------------------------------------------------------------------------------------------------------------------------------------------------------------------------------------------------------------------------------------------------------------------------------------------------------------------------------------------------------------------------------------------------------------------------------------------------------------------------------------------------------------------------------------"
   ]
  },
  {
   "cell_type": "markdown",
   "metadata": {},
   "source": [
    "# Exercícios Python 1 - 115\n",
    "Respondendo as questões do prof. Gustavo Guanabara, do curso de python pelo canal Curso em Vídeo "
   ]
  },
  {
   "cell_type": "markdown",
   "metadata": {},
   "source": [
    "# Mundo 1\n",
    "## - Conhecendo a linguagem"
   ]
  },
  {
   "cell_type": "markdown",
   "metadata": {},
   "source": [
    "### Exercícios 1\n",
    "* Crie um script Python que leia o nome de uma pessoa e mostre uma mensagem de boas-vindas de acordo com o valor digitado\n",
    "* Crie um programa que escreva \"Olá, mundo\" na tela."
   ]
  },
  {
   "cell_type": "code",
   "execution_count": 4,
   "metadata": {},
   "outputs": [
    {
     "name": "stdout",
     "output_type": "stream",
     "text": [
      "Qual seu nome?\n",
      "Leonardo\n",
      "Olá, Leonardo! Prazer em conhecer você!\n"
     ]
    }
   ],
   "source": [
    "# \\n é para jogar o resultado para proxima linha\n",
    "nome = input('Qual seu nome?\\n')\n",
    "\n",
    "# .Format é para puxar a variavel para dentro das chaves\n",
    "print('Olá, {}! Prazer em conhecer você!'.format(nome))"
   ]
  },
  {
   "cell_type": "code",
   "execution_count": 3,
   "metadata": {},
   "outputs": [
    {
     "name": "stdout",
     "output_type": "stream",
     "text": [
      "Olá, mundo!\n"
     ]
    }
   ],
   "source": [
    "print(\"Olá, mundo!\")"
   ]
  },
  {
   "cell_type": "markdown",
   "metadata": {},
   "source": [
    "### Exercícios 2\n",
    "* Crie um script Python que leia o dia, o mês e o ano de nascimento de uma pessoa e mostre uma mensagem com a data formatada\n"
   ]
  },
  {
   "cell_type": "code",
   "execution_count": 5,
   "metadata": {},
   "outputs": [
    {
     "name": "stdout",
     "output_type": "stream",
     "text": [
      "Dia que você nasceu?\n",
      "13\n",
      "Mês que você nasceu?\n",
      "06\n",
      "Ano que você nasceu?\n",
      "2002\n",
      "Você nasceu no dia 13, no mês 06 e no ano 2002\n"
     ]
    }
   ],
   "source": [
    "# Int para declarar que precisar ser um numero inteiro\n",
    "dia = int(input('Dia que você nasceu?\\n')\n",
    "mes = int(input('Mês que você nasceu?\\n')\n",
    "ano = int(input('Ano que você nasceu?\\n')\n",
    "          \n",
    "print('A pessoa nasceu no dia {} do mês {} do ano de {}.'.format(dia, mes, ano))"
   ]
  },
  {
   "cell_type": "markdown",
   "metadata": {},
   "source": [
    "## - Primeiros passos"
   ]
  },
  {
   "cell_type": "markdown",
   "metadata": {},
   "source": [
    "### Exercícios 3\n",
    "* Crie um script Python que leia dois números e tente mostrar a soma entre eles\n"
   ]
  },
  {
   "cell_type": "code",
   "execution_count": 28,
   "metadata": {},
   "outputs": [
    {
     "name": "stdout",
     "output_type": "stream",
     "text": [
      "Primeiro numero para somar\n",
      "20\n",
      "Segundo numero para somar\n",
      "51\n",
      "A soma é: 71\n",
      "A soma é: 71!\n",
      "A soma é: 71!\n"
     ]
    }
   ],
   "source": [
    "num1 = int(input('Primeiro numero para somar\\n'))\n",
    "num2 = int(input('Segundo numero para somar\\n'))\n",
    "\n",
    "# Três metodos para conseguir calcular a soma de dois numeros\n",
    "print(\"A soma é:\", num1 + num2)\n",
    "\n",
    "print(\"A soma é: %d!\" % (num1 + num2))\n",
    "\n",
    "print(\"A soma é: {}!\".format(num1 + num2))"
   ]
  },
  {
   "cell_type": "markdown",
   "metadata": {},
   "source": [
    "### Exercícios 4\n",
    "* Faça um programa que leia algo pelo teclado \n",
    "* Mostre na tela o seu tipo primitivo \n",
    "* E todas as informações possíveis sobre ele\n"
   ]
  },
  {
   "cell_type": "code",
   "execution_count": 31,
   "metadata": {},
   "outputs": [
    {
     "name": "stdout",
     "output_type": "stream",
     "text": [
      "Digite alguma tecla do seu teclado: leo\n",
      "Tipo primitivo: <class 'str'>.\n",
      "É numérico? False\n",
      "É alfanumérico? True.\n",
      "É um decimal? False.\n",
      "Está em caixa baixa? True.\n",
      "É apenas espaço em branco? False.\n",
      "Está em caixa alta? False.\n"
     ]
    }
   ],
   "source": [
    "entrada = input('Digite alguma tecla do seu teclado: ')\n",
    "\n",
    "# Type para verificar o tipo da entrada\n",
    "print(\"Tipo primitivo: {}.\".format(type(entrada)))\n",
    "\n",
    "# isnumeric para verificar se a variavel é numero\n",
    "print(\"É numérico? {}\".format(entrada.isnumeric()))\n",
    "\n",
    "# isalpha para verificar se a variavel é alphanumérico\n",
    "print(\"É alfanumérico? {}.\".format(entrada.isalpha()))\n",
    "\n",
    "# isdecimal para verificar se a variavel é decimal\n",
    "print(\"É um decimal? {}.\".format(entrada.isdecimal()))\n",
    "\n",
    "# islower para verificar se a variavel está em caixa baixa\n",
    "print(\"Está em caixa baixa? {}.\".format(entrada.islower()))\n",
    "\n",
    "# isspace para verificar se a variavel é apenas um espaço em branco\n",
    "print(\"É apenas espaço em branco? {}.\".format(entrada.isspace()))\n",
    "\n",
    "# isupper para verificar se está em caixa alta\n",
    "print(\"Está em caixa alta? {}.\".format(entrada.isupper()))"
   ]
  },
  {
   "cell_type": "markdown",
   "metadata": {},
   "source": [
    "## - Cálculos e operações"
   ]
  },
  {
   "cell_type": "markdown",
   "metadata": {},
   "source": [
    "### Exercícios 5\n",
    "* Faça um programa que leia um número inteiro e mostre na tela o seu sucessor e seu antecessor:\n"
   ]
  },
  {
   "cell_type": "code",
   "execution_count": 46,
   "metadata": {},
   "outputs": [
    {
     "name": "stdout",
     "output_type": "stream",
     "text": [
      "Digite um numero: 5\n",
      "O antecessor do número 5 é: 4.\n",
      "O sucessor do número 5 é: 6.\n"
     ]
    }
   ],
   "source": [
    "num_int = int(input('Digite um numero: '))\n",
    "\n",
    "print(\"O antecessor do número {} é: {}.\".format(num_int, num_int - 1))\n",
    "\n",
    "print(\"O sucessor do número {} é: {}.\".format(num_int, num_int + 1))"
   ]
  },
  {
   "cell_type": "markdown",
   "metadata": {},
   "source": [
    "### Exercícios 6\n",
    "* Crie um algoritmo que leia um número e mostre o seu dobro, o seu triplo e sua raiz quadrada:\n"
   ]
  },
  {
   "cell_type": "code",
   "execution_count": 50,
   "metadata": {},
   "outputs": [
    {
     "name": "stdout",
     "output_type": "stream",
     "text": [
      "Digite um numero: 5\n",
      "O seu numero é 5 e seu dobro é: 10.\n",
      "O seu numero é 5 e seu triplo é: 15.\n",
      "O seu numero é 5 e sua raiz quadrada é: 2.23606797749979.\n",
      "A raiz quadrada de 5 é: 2.23606797749979.\n"
     ]
    }
   ],
   "source": [
    "# Biblioteca para calcular raiz quadrada\n",
    "import math\n",
    "\n",
    "n = int(input('Digite um numero: '))\n",
    "\n",
    "print(\"O seu numero é {} e seu dobro é: {}.\".format(n, n * 2))\n",
    "\n",
    "print(\"O seu numero é {} e seu triplo é: {}.\".format(n, n * 3))\n",
    "\n",
    "# Importando a biblioteca math para calcularmos raiz quadrada ou podemos fazer de um jeito mais convencional\n",
    "print(\"O seu numero é {} e sua raiz quadrada é: {}.\".format(n, math.sqrt(n)))\n",
    "\n",
    "# Jeito convencional\n",
    "print(\"A raiz quadrada de {} é: {}.\".format(n, n**(1/2)))"
   ]
  },
  {
   "cell_type": "markdown",
   "metadata": {},
   "source": [
    "### Exercícios 7\n",
    "* Desenvolva um programa que leia as duas notas de um aluno, calcule e mostre a sua média:"
   ]
  },
  {
   "cell_type": "code",
   "execution_count": 55,
   "metadata": {},
   "outputs": [
    {
     "name": "stdout",
     "output_type": "stream",
     "text": [
      "Primeira nota\n",
      "5\n",
      "Segunda nota\n",
      "7\n",
      "Sua primeira nota foi: 5, sua segunda nota: 7 e sua média final é: 6.0\n"
     ]
    }
   ],
   "source": [
    "nota1 = int(input('Primeira nota\\n'))\n",
    "nota2 = int(input('Segunda nota\\n'))\n",
    "\n",
    "print('Sua primeira nota foi: {}, sua segunda nota: {} e sua média final é: {}'.format(nota1, nota2, (nota1 + nota2) /2))"
   ]
  },
  {
   "cell_type": "markdown",
   "metadata": {},
   "source": [
    "### Exercícios 8\n",
    "* Escreva um programa que leia um valor em metros e o exiba convertido em centímetros e milímetros\n"
   ]
  },
  {
   "cell_type": "code",
   "execution_count": 73,
   "metadata": {},
   "outputs": [
    {
     "name": "stdout",
     "output_type": "stream",
     "text": [
      "Valor em metros:\n",
      "2\n",
      "2 metros são 200 centímetros.\n",
      "2 metros são 2000 milímetros.\n"
     ]
    }
   ],
   "source": [
    "metros = int(input('Valor em metros:\\n'))\n",
    "\n",
    "print(\"{} metros são {} centímetros.\".format(metros, metros * 100))\n",
    "\n",
    "print(\"{} metros são {} milímetros.\".format(metros, metros * 1000))"
   ]
  },
  {
   "cell_type": "markdown",
   "metadata": {},
   "source": [
    "## Exercícios 9\n",
    "* Faça um programa que leia um número inteiro qualquer\n",
    "* e mostre na tela a sua tabuada\n"
   ]
  },
  {
   "cell_type": "code",
   "execution_count": 3,
   "metadata": {},
   "outputs": [
    {
     "name": "stdout",
     "output_type": "stream",
     "text": [
      "Digite um número inteiro10\n",
      "Tabuada do 10:\n",
      "10 x 1 = 10\n",
      "10 x 2 = 20\n",
      "10 x 3 = 30\n",
      "10 x 4 = 40\n",
      "10 x 5 = 50\n",
      "10 x 6 = 60\n",
      "10 x 7 = 70\n",
      "10 x 8 = 80\n",
      "10 x 9 = 90\n",
      "10 x 10 = 100\n"
     ]
    }
   ],
   "source": [
    "n = int(input('Digite um número inteiro'))\n",
    "tabuada = 1\n",
    "\n",
    "print(\"Tabuada do {}:\".format(n))\n",
    "\n",
    "# Enquanto tabuada for menor e igual a 10, execute: \n",
    "while tabuada <= 10:\n",
    "    print(\"{} x {} = {}\".format(n, tabuada, n * tabuada))\n",
    "    tabuada += 1 # Abreviação de tabuada = tabuada + 1, atualiza o valor da variável tabuada adicionando 1 ao valor atual"
   ]
  },
  {
   "cell_type": "markdown",
   "metadata": {},
   "source": [
    "## Exercícios 10\n",
    "* Crie um programa que leia quanto dinheiro uma pessoa tem na carteira e mostre quantos dólares ela pode comprar"
   ]
  },
  {
   "cell_type": "code",
   "execution_count": 81,
   "metadata": {},
   "outputs": [
    {
     "name": "stdout",
     "output_type": "stream",
     "text": [
      "Quanto de dinheiro você tem na carteira?\n",
      "20\n",
      "Você tem R$20.0, e você pode comprar US$6.12 dolares\n"
     ]
    }
   ],
   "source": [
    "# Considere R$ 3.27 = US$ 1 - saudades 3.27 ;-;\n",
    "\n",
    "dolar = 3.27\n",
    "din = float(input('Quanto de dinheiro você tem na carteira?\\n'))\n",
    "\n",
    "# : Indica o início dos especificadores de formato\n",
    "# .2 Especifica o número de casas decimais que devem ser exibidas após o ponto \n",
    "# f indica que é um número real (float) ou ponto flutuante\n",
    "print ('Você tem R${}, e você pode comprar US${:.2f} dolares'.format(din, din / dolar))"
   ]
  },
  {
   "cell_type": "markdown",
   "metadata": {},
   "source": [
    "## Exercícios 11\n",
    "* Faça um programa que leia a largura e a algura de uma parede em metros, calcule a sua área e a quantidade de tinta necessária para pintá-la, sabendo que cada litro de tinta pinta uma área de 2m²"
   ]
  },
  {
   "cell_type": "code",
   "execution_count": 13,
   "metadata": {},
   "outputs": [
    {
     "name": "stdout",
     "output_type": "stream",
     "text": [
      "Qual é a largura da parede?5\n",
      "Qual é a altura da parede?4\n",
      "Sua área é de: 20m², e é necessária 10.0 litros de tinta para pinta-lá\n"
     ]
    }
   ],
   "source": [
    "largura = int(input('Qual é a largura da parede?'))\n",
    "altura = int(input('Qual é a altura da parede?'))\n",
    "area = largura * altura\n",
    "\n",
    "# Cada litro (L) de tinta pinta uma área de 2m².\n",
    "print('Sua área é de: {}m², e é necessária {} litros de tinta para pinta-lá'.format(area, area/2))"
   ]
  },
  {
   "cell_type": "markdown",
   "metadata": {},
   "source": [
    "## Exercícios 12\n",
    "* Faça um algoritmo que leia o preço de um produto e mostre seu novo preço, com 5% de desconto"
   ]
  },
  {
   "cell_type": "code",
   "execution_count": 26,
   "metadata": {},
   "outputs": [
    {
     "name": "stdout",
     "output_type": "stream",
     "text": [
      "Qual o preço do produto?\n",
      "100\n",
      "O preço do seu produto é: 100.00, e seu novo preço com 5% de desconto fica por: 95.00\n"
     ]
    }
   ],
   "source": [
    "produto = float(input(\"Qual o preço do produto?\\n\"))\n",
    "\n",
    "# {:.2f} para somente mostrar dois numeros depois da virgula\n",
    "# O calculo final estou calculando primeiro o valor de 5% do produto e depois descontando com o valor total\n",
    "print ('O preço do seu produto é: {:.2f}, e seu novo preço com 5% de desconto fica por: {:.2f}'.format(produto, produto - (produto * 5 / 100)))"
   ]
  },
  {
   "cell_type": "markdown",
   "metadata": {},
   "source": [
    "## Exercícios 13\n",
    "* Faça um algoritmo que leia o salário de um funcionário e mostre seu novo salário, com 15% de aumento"
   ]
  },
  {
   "cell_type": "code",
   "execution_count": 27,
   "metadata": {},
   "outputs": [
    {
     "name": "stdout",
     "output_type": "stream",
     "text": [
      "Qual é o seu salário?\n",
      "1000\n",
      "Seu salário é: 1000.00 e com o aumento de 15% ficou 1150.00\n"
     ]
    }
   ],
   "source": [
    "salario = float(input('Qual é o seu salário?\\n'))\n",
    "\n",
    "print('Seu salário é: {:.2f} e com o aumento de 15% ficou {:.2f}'.format(salario, salario + (salario * 15 / 100)))"
   ]
  },
  {
   "cell_type": "markdown",
   "metadata": {},
   "source": [
    "## Exercícios 14\n",
    "* Conversor de temperaturas: escreva um programa que converta uma temperatura digitada em ºC para ºF"
   ]
  },
  {
   "cell_type": "code",
   "execution_count": 30,
   "metadata": {},
   "outputs": [
    {
     "name": "stdout",
     "output_type": "stream",
     "text": [
      "Quantos Grau Celsius está fazendo?\n",
      "15\n",
      "Está fazendo 15.00 ºC e em ºF seria: 59.00\n"
     ]
    }
   ],
   "source": [
    "c = float(input('Quantos Grau Celsius está fazendo?\\n'))\n",
    "\n",
    "print('Está fazendo {:.2f} ºC e em ºF seria: {:.2f}'.format(c, (c * 1.8) + 32))"
   ]
  },
  {
   "cell_type": "markdown",
   "metadata": {},
   "source": [
    "## Exercícios 15\n",
    "* Escreva um programa que pergunte a quantidade de Km percorridos por um carro alugado e a quantidade de dias pelos quais ele foi alugado\n",
    "* Calcule o preço a pagar, sabendo que o carro custa 60 reais por dia e 0.15 reais por km rodado"
   ]
  },
  {
   "cell_type": "code",
   "execution_count": 34,
   "metadata": {},
   "outputs": [
    {
     "name": "stdout",
     "output_type": "stream",
     "text": [
      "Quantos Km foram percorridos pelo carro?: 250\n",
      "Quantos dias ficou alugado?: 6\n",
      "foram percorrido 250.00KM e o carro ficou alugando durante 6 dias\n",
      "O valor total a pagar será de: R$397.50\n"
     ]
    }
   ],
   "source": [
    "km = float(input('Quantos Km foram percorridos pelo carro?: '))\n",
    "dia = int(input('Quantos dias ficou alugado?: '))\n",
    "total = ((dia * 60) + (km * 0.15))\n",
    "\n",
    "print ('foram percorrido {:.2f}KM e o carro ficou alugando durante {} dias'.format(km, dia,))\n",
    "print ('O valor total a pagar será de: R${:.2f}'.format(total))"
   ]
  },
  {
   "cell_type": "markdown",
   "metadata": {},
   "source": [
    "## - Módulos"
   ]
  },
  {
   "cell_type": "markdown",
   "metadata": {},
   "source": [
    "## Exercícios 16\n",
    "* Crie um programa que leia um número real qualquer pelo teclado e mostre na tela a sua porção inteira"
   ]
  },
  {
   "cell_type": "code",
   "execution_count": 11,
   "metadata": {},
   "outputs": [
    {
     "name": "stdout",
     "output_type": "stream",
     "text": [
      "Digite um número real qualquer para mostrar o valor na sua porção inteira: 1.96\n",
      "O valor de porção inteira de 1.96 é 1\n"
     ]
    }
   ],
   "source": [
    "# trunc é utilizada para arredondar um número para sua parte inteira, removendo a parte decimal.\n",
    "from math import trunc \n",
    "\n",
    "valor = float(input('Digite um número real qualquer para mostrar o valor na sua porção inteira: '))\n",
    "\n",
    "print ('O valor de porção inteira de {:.2f} é {}'.format(valor, trunc(valor) )) # trunc(valor) para remover a parte decimal"
   ]
  },
  {
   "cell_type": "markdown",
   "metadata": {},
   "source": [
    "## Exercícios 17\n",
    "* Faça um programa que leia o comprimento do cateto oposto (co) e do cateto adjacente (ca) de um triângulo retângulo, calcule e mostre o comprimento da hipotenusa"
   ]
  },
  {
   "cell_type": "code",
   "execution_count": 18,
   "metadata": {},
   "outputs": [
    {
     "name": "stdout",
     "output_type": "stream",
     "text": [
      "Digite o comprimento do cateto oposto: 9\n",
      "Digite o comprimento do cateto adjacente: 12\n",
      "O comprimento da hipotenusa é 15\n"
     ]
    }
   ],
   "source": [
    "# O sqrt consegue calcular Raiz quadrada conseguindo assim calcular a hipotenusa\n",
    "from math import sqrt\n",
    "\n",
    "co = int(input('Digite o comprimento do cateto oposto: '))\n",
    "ca = int(input('Digite o comprimento do cateto adjacente: '))\n",
    "hip = sqrt(co**2 + ca**2) # fórmula que calcula a hipotenusa de um triângulo retângulo, usando o teorema de Pitágoras.\n",
    "\n",
    "print ('O comprimento da hipotenusa é {}'.format(trunc(hip))) # trunc(hip) para conseguir o valor sem a parte decimal"
   ]
  },
  {
   "cell_type": "markdown",
   "metadata": {},
   "source": [
    "## Exercícios 18\n",
    "* Faça um programa que leia um ângulo qualquer e mostre na tela o valor do seno, cosseno e tangente desse ângulo"
   ]
  },
  {
   "cell_type": "code",
   "execution_count": null,
   "metadata": {},
   "outputs": [],
   "source": [
    "from math import sin, cos, tan, radians\n",
    "\n",
    "ang = float(input(\"Digite um ângulo entre 0º e 360º: \"))\n",
    "\n",
    "sen = sin(radians(ang)) # Converte um ângulo em graus para radianos usando a função \"radians()\"\n",
    "cos = cos(radians(ang)) # e, em seguida, calcula o seno do ângulo em radianos usando a função \"sin()\",\n",
    "tan = tan(radians(ang)) # armazenando o resultado em uma variável \n",
    "\n",
    "print(\"O ângulo de {} tem o seno de {:.2f}.\".format(ang, sen))\n",
    "print(\"O ângulo de {} tem o cosseno de {:.2f}.\".format(ang, cos))\n",
    "print(\"O ângulo de {} tem a tangente de {:.2f}.\".format(ang, tan))"
   ]
  },
  {
   "cell_type": "markdown",
   "metadata": {},
   "source": [
    "## Exercícios 19\n",
    "* Um professor quer sortear um dos seus quatro alunos para apagar o quadro.\n",
    "* Faça um programa que ajude ele, lendo o nome deles e escrevendo o do escolhido."
   ]
  },
  {
   "cell_type": "code",
   "execution_count": 13,
   "metadata": {},
   "outputs": [
    {
     "name": "stdout",
     "output_type": "stream",
     "text": [
      "primeiro nome?\n",
      "Léo\n",
      "Segundo nome?\n",
      "Leozin\n",
      "Terceiro nome?\n",
      "leonardo\n",
      "Quarto nome?\n",
      "Leu\n",
      "A pessoa escolhida para apagar o quadro foi o leonardo\n"
     ]
    }
   ],
   "source": [
    "# Biblioteca ramdom para conseguir selecionar um valor aleatório\n",
    "import random\n",
    "\n",
    "nome1 = str(input('primeiro nome?\\n'))\n",
    "nome2 = str(input('Segundo nome?\\n'))\n",
    "nome3 = str(input('Terceiro nome?\\n'))\n",
    "nome4 = str(input('Quarto nome?\\n'))\n",
    "\n",
    "lista = [nome1, nome2, nome3, nome4]\n",
    "\n",
    "# Puxei a função choice da biblioteca random\n",
    "# Essa função retorna um elemento aleatório da sequência\n",
    "print ('A pessoa escolhida para apagar o quadro foi o {}'.format(random.choice(lista)))"
   ]
  },
  {
   "cell_type": "markdown",
   "metadata": {},
   "source": [
    "## Exercícios 20\n",
    "* O mesmo professor do desafio anterior quer sortear a ordem de apresentação de trabalhos dos alunos.\n",
    "* Faça um programa que leia o nome dos quatro alunos e mostre a ordem sorteada.\n"
   ]
  },
  {
   "cell_type": "code",
   "execution_count": 24,
   "metadata": {},
   "outputs": [
    {
     "name": "stdout",
     "output_type": "stream",
     "text": [
      "primeiro aluno?\n",
      "leo\n",
      "Segundo aluno?\n",
      "leozin\n",
      "Terceiro terceiro?\n",
      "leu\n",
      "Quarto aluno?\n",
      "leonardo\n",
      "A ordem de apresentação vai começar por: ['leu', 'leo', 'leozin', 'leonardo']\n"
     ]
    }
   ],
   "source": [
    "# Biblioteca ramdom para conseguir selecionar um valor aleatório\n",
    "import random\n",
    "\n",
    "nome1 = str(input('primeiro aluno?\\n'))\n",
    "nome2 = str(input('Segundo aluno?\\n'))\n",
    "nome3 = str(input('Terceiro terceiro?\\n'))\n",
    "nome4 = str(input('Quarto aluno?\\n'))\n",
    "\n",
    "lista = [nome1, nome2, nome3, nome4]\n",
    "\n",
    "# A função shuffle embaralha uma lista, pertence a biblioteca random\n",
    "random.shuffle(lista)\n",
    "\n",
    "print('A ordem de apresentação vai começar por: {}'.format(lista))"
   ]
  },
  {
   "cell_type": "markdown",
   "metadata": {},
   "source": [
    "## Exercícios 21\n",
    "* Faça um programa em Python que abra e reproduza um arquivo mp3"
   ]
  },
  {
   "cell_type": "code",
   "execution_count": null,
   "metadata": {},
   "outputs": [],
   "source": []
  }
 ],
 "metadata": {
  "colab": {
   "collapsed_sections": [
    "tttWPzHe8sGA",
    "jIZXysdu_INX",
    "OKTlzE0TvCyK",
    "BuahrnbB_LdG",
    "5DOdhbUWBxXI",
    "vwFAqk5FyEZX",
    "I5AD3MDb5CfE",
    "Ygxdf-EZ89Fo",
    "UAjIkVxNPb7u",
    "9FgqTEh5X3xy",
    "Z8NlrpGOWuEL",
    "_AYm15ET9Nog"
   ],
   "provenance": []
  },
  "kernelspec": {
   "display_name": "Python 3 (ipykernel)",
   "language": "python",
   "name": "python3"
  },
  "language_info": {
   "codemirror_mode": {
    "name": "ipython",
    "version": 3
   },
   "file_extension": ".py",
   "mimetype": "text/x-python",
   "name": "python",
   "nbconvert_exporter": "python",
   "pygments_lexer": "ipython3",
   "version": "3.9.13"
  }
 },
 "nbformat": 4,
 "nbformat_minor": 1
}
